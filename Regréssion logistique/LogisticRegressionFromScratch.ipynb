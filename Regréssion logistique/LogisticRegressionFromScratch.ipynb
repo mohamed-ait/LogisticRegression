{
 "cells": [
  {
   "cell_type": "code",
   "execution_count": 147,
   "id": "9bf0404d-a152-4eb1-9253-c709148e346a",
   "metadata": {},
   "outputs": [],
   "source": [
    "from matplotlib import pyplot as plt\n",
    "import pandas as pd\n",
    "import math\n",
    "import numpy as np"
   ]
  },
  {
   "cell_type": "code",
   "execution_count": 148,
   "id": "5ce9b88a-b827-4680-b9da-321c865edb1d",
   "metadata": {},
   "outputs": [],
   "source": [
    "Xand= pd.DataFrame([[1,1,1],[0,1,0],[1,0,0],[0,0,0]])"
   ]
  },
  {
   "cell_type": "code",
   "execution_count": 149,
   "id": "5b1edb9b-f1bd-4e3a-a396-16800d7930bf",
   "metadata": {},
   "outputs": [
    {
     "data": {
      "text/html": [
       "<div>\n",
       "<style scoped>\n",
       "    .dataframe tbody tr th:only-of-type {\n",
       "        vertical-align: middle;\n",
       "    }\n",
       "\n",
       "    .dataframe tbody tr th {\n",
       "        vertical-align: top;\n",
       "    }\n",
       "\n",
       "    .dataframe thead th {\n",
       "        text-align: right;\n",
       "    }\n",
       "</style>\n",
       "<table border=\"1\" class=\"dataframe\">\n",
       "  <thead>\n",
       "    <tr style=\"text-align: right;\">\n",
       "      <th></th>\n",
       "      <th>0</th>\n",
       "      <th>1</th>\n",
       "      <th>2</th>\n",
       "    </tr>\n",
       "  </thead>\n",
       "  <tbody>\n",
       "    <tr>\n",
       "      <th>0</th>\n",
       "      <td>1</td>\n",
       "      <td>1</td>\n",
       "      <td>1</td>\n",
       "    </tr>\n",
       "    <tr>\n",
       "      <th>1</th>\n",
       "      <td>0</td>\n",
       "      <td>1</td>\n",
       "      <td>0</td>\n",
       "    </tr>\n",
       "    <tr>\n",
       "      <th>2</th>\n",
       "      <td>1</td>\n",
       "      <td>0</td>\n",
       "      <td>0</td>\n",
       "    </tr>\n",
       "    <tr>\n",
       "      <th>3</th>\n",
       "      <td>0</td>\n",
       "      <td>0</td>\n",
       "      <td>0</td>\n",
       "    </tr>\n",
       "  </tbody>\n",
       "</table>\n",
       "</div>"
      ],
      "text/plain": [
       "   0  1  2\n",
       "0  1  1  1\n",
       "1  0  1  0\n",
       "2  1  0  0\n",
       "3  0  0  0"
      ]
     },
     "execution_count": 149,
     "metadata": {},
     "output_type": "execute_result"
    }
   ],
   "source": [
    "Xand"
   ]
  },
  {
   "cell_type": "code",
   "execution_count": 327,
   "id": "9d3ae84e-9b61-4043-83b5-0685b2fe0446",
   "metadata": {},
   "outputs": [],
   "source": [
    "Y=Xand.iloc[:,2]\n",
    "X=Xand.iloc[:,[0,1]]\n",
    "# add a collone of ones to X to become X1 :\n",
    "X1=np.hstack((np.ones( ( len(X), 1) ),X)) "
   ]
  },
  {
   "cell_type": "markdown",
   "id": "e2acdd6a-53dd-462b-b9cf-59b69f1d8056",
   "metadata": {},
   "source": [
    "## La fontction hTheta qui caclule le produit scalaire de X*W"
   ]
  },
  {
   "cell_type": "code",
   "execution_count": 351,
   "id": "5ae5636d-fa5b-4721-ada9-3e0e35cc5331",
   "metadata": {},
   "outputs": [],
   "source": [
    "def hTheta(Xi,W) :\n",
    "    z=np.dot(np.array(W).T,Xi)    \n",
    "    res=1/(1+math.exp(-z))\n",
    "    return res"
   ]
  },
  {
   "cell_type": "code",
   "execution_count": 352,
   "id": "32cbaa6c-bf17-4026-8a1b-0c2b1493e488",
   "metadata": {},
   "outputs": [
    {
     "data": {
      "text/plain": [
       "0.9525741268224334"
      ]
     },
     "execution_count": 352,
     "metadata": {},
     "output_type": "execute_result"
    }
   ],
   "source": [
    "# tester le fonctionnemnt de hTheta :\n",
    "hTheta([1,1,1],X1[0])"
   ]
  },
  {
   "cell_type": "markdown",
   "id": "e6d5f9a3-1949-4627-8ec4-a7dd51bb2be3",
   "metadata": {},
   "source": [
    "# La fonction gradient :"
   ]
  },
  {
   "cell_type": "code",
   "execution_count": 353,
   "id": "3acc45ee-68d6-4c59-827c-e51f147c456d",
   "metadata": {},
   "outputs": [],
   "source": [
    "def gradient(X,Y,alpha,W,j) :\n",
    "    res=0\n",
    "    for i in range(X.shape[0]):\n",
    "        res+=(Y[i]-hTheta(X[i],W))*X[i][j]\n",
    "    return res"
   ]
  },
  {
   "cell_type": "code",
   "execution_count": 354,
   "id": "aef29a43-4761-4518-a347-ce8175733747",
   "metadata": {},
   "outputs": [
    {
     "data": {
      "text/plain": [
       "-0.1623386790312694"
      ]
     },
     "execution_count": 354,
     "metadata": {},
     "output_type": "execute_result"
    }
   ],
   "source": [
    "# tester la foction gradient de gradient :\n",
    "gradient(X1,Y,0.2,W,0)"
   ]
  },
  {
   "cell_type": "markdown",
   "id": "fcfe9d43-858d-4b7e-97ae-5d74d370a2c4",
   "metadata": {},
   "source": [
    "# Cette fonction permet de  mettre à jour les parametres de W : "
   ]
  },
  {
   "cell_type": "code",
   "execution_count": 355,
   "id": "d55b6b0e-d364-44cb-b1a1-4da0569b752d",
   "metadata": {},
   "outputs": [],
   "source": [
    "def miseajour(X,Y,W,j,alpha,omega) :\n",
    "    return omega+alpha*gradient(X,Y,alpha,W,j)"
   ]
  },
  {
   "cell_type": "code",
   "execution_count": 356,
   "id": "681827cf-b4f1-47cd-be80-d38ede4d7970",
   "metadata": {},
   "outputs": [
    {
     "data": {
      "text/plain": [
       "1.0220788851732652"
      ]
     },
     "execution_count": 356,
     "metadata": {},
     "output_type": "execute_result"
    }
   ],
   "source": [
    "# tester la fonction miseajour :\n",
    "miseajour(X1,Y,W,2,0.2,1)"
   ]
  },
  {
   "cell_type": "markdown",
   "id": "8d472ec7-f60a-4e5a-aae9-7ff265a9c89d",
   "metadata": {},
   "source": [
    "# La fonxtion descent pour optimiser les parametres de W :"
   ]
  },
  {
   "cell_type": "code",
   "execution_count": 357,
   "id": "18cb7175-76f6-49ef-ad90-280a2835f522",
   "metadata": {},
   "outputs": [],
   "source": [
    "def descent(X,Y,W,alpha,NMax) : \n",
    "    #itérer sur les coefficient de W : \n",
    "    for j in range(NMax) :\n",
    "    # itérer sur le nombre des itérations donné en argument :\n",
    "        for i in range(len(W)) :\n",
    "            W[i]=miseajour(X,Y,W,i,alpha,W[i])\n",
    "    return W"
   ]
  },
  {
   "cell_type": "markdown",
   "id": "65a117fd-ba58-4261-96fc-d14b81abe94c",
   "metadata": {},
   "source": [
    "# Le programme principale : "
   ]
  },
  {
   "cell_type": "code",
   "execution_count": 358,
   "id": "f3a50620-5d29-49af-a4cb-056eadf2c980",
   "metadata": {},
   "outputs": [
    {
     "name": "stdout",
     "output_type": "stream",
     "text": [
      "[1, 1, 1]\n"
     ]
    },
    {
     "data": {
      "text/plain": [
       "[-3.1055033570454245, 1.896357903921264, 1.8823581144485788]"
      ]
     },
     "execution_count": 358,
     "metadata": {},
     "output_type": "execute_result"
    }
   ],
   "source": [
    "# initialiser les prametres de W\n",
    "W=[1,1,1]\n",
    "print(W)\n",
    "# donner une valeur a alpha\n",
    "alpha=0.1\n",
    "# présiser le nombre des itérations :\n",
    "NMax=100\n",
    "# recupérer les meilleurs parametres de W retournés par la fonction descant :\n",
    "WBest=descent(X1,Y,W,alpha,NMax)\n",
    "WBest"
   ]
  },
  {
   "cell_type": "markdown",
   "id": "8cb7865e-9e3b-4069-8b7f-fa16d7ab86b5",
   "metadata": {},
   "source": [
    "# La fonction qui calcule l'erreur :"
   ]
  },
  {
   "cell_type": "code",
   "execution_count": 359,
   "id": "a69be0f4-d6e2-4861-82a3-afa59e1bed49",
   "metadata": {},
   "outputs": [],
   "source": [
    "def Error(X,Y,W) :\n",
    "    somme = 0\n",
    "    m=X.shape[0]\n",
    "    for i in range(m):\n",
    "        somme+=Y[i]*np.log(hTheta(X[i],W))+(1-Y[i])*np.log(1-hTheta(X[i],W))\n",
    "    return somme*(-1/m)"
   ]
  },
  {
   "cell_type": "code",
   "execution_count": 360,
   "id": "0a65eed0-ebc2-4d45-98bb-853350b8c7a3",
   "metadata": {},
   "outputs": [
    {
     "name": "stdout",
     "output_type": "stream",
     "text": [
      "l'erreur pour W pris au debut est ---->1.4039262652944768\n",
      "l'erreur pour le meilleur W est ---->0.2437817184604208\n"
     ]
    }
   ],
   "source": [
    "#tester la fonction d'erreur pour W pris au debut et le meilleur W :\n",
    "print(\"l'erreur pour W pris au debut est ---->\"+str(Error(X1,Y,[1,1,1])))\n",
    "print(\"l'erreur pour le meilleur W est ---->\"+str(Error(X1,Y,WBest)))"
   ]
  },
  {
   "cell_type": "code",
   "execution_count": 369,
   "id": "12bcb042-5735-43de-b01f-e60f9b29cc0e",
   "metadata": {},
   "outputs": [
    {
     "name": "stdout",
     "output_type": "stream",
     "text": [
      "0.6622221541474287\n",
      "0.22738341998624562\n",
      "0.22985228810113734\n",
      "0.04288081679645774\n"
     ]
    },
    {
     "data": {
      "text/plain": [
       "[<matplotlib.lines.Line2D at 0x1bf66637070>,\n",
       " <matplotlib.lines.Line2D at 0x1bf66dc0790>]"
      ]
     },
     "execution_count": 369,
     "metadata": {},
     "output_type": "execute_result"
    },
    {
     "data": {
      "image/png": "[encoded data removed]",
      "text/plain": [
       "<Figure size 432x288 with 1 Axes>"
      ]
     },
     "metadata": {
      "needs_background": "light"
     },
     "output_type": "display_data"
    }
   ],
   "source": [
    "# plt.scatter(X.iloc[:,0],X.iloc[:,1],Y)\n",
    "plt.scatter(X.iloc[:,0],X.iloc[:,1])\n",
    "Ypred=[]\n",
    "for i in range( X1.shape[0]) : \n",
    "    print(hTheta(X1[i],WBest))\n",
    "    Ypred.append(hTheta(X1[i],WBest))\n",
    "plt.plot(X.iloc[:,0],X.iloc[:,1],Ypred)"
   ]
  },
  {
   "cell_type": "code",
   "execution_count": null,
   "id": "ceaae898-f6eb-4434-b21a-f676e44a3545",
   "metadata": {},
   "outputs": [],
   "source": []
  }
 ],
 "metadata": {
  "kernelspec": {
   "display_name": "Python 3 (ipykernel)",
   "language": "python",
   "name": "python3"
  },
  "language_info": {
   "codemirror_mode": {
    "name": "ipython",
    "version": 3
   },
   "file_extension": ".py",
   "mimetype": "text/x-python",
   "name": "python",
   "nbconvert_exporter": "python",
   "pygments_lexer": "ipython3",
   "version": "3.9.12"
  }
 },
 "nbformat": 4,
 "nbformat_minor": 5
}
